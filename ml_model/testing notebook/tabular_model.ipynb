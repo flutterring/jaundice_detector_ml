{
 "cells": [
  {
   "cell_type": "code",
   "execution_count": null,
   "id": "fe0ea26f",
   "metadata": {
    "vscode": {
     "languageId": "plaintext"
    }
   },
   "outputs": [],
   "source": [
    "import os\n",
    "import numpy as np\n",
    "import pandas as pd\n",
    "from sklearn.model_selection import train_test_split\n",
    "from sklearn.metrics import accuracy_score, classification_report\n",
    "from sklearn.utils import class_weight\n",
    "import tensorflow as tf\n",
    "from tensorflow import keras\n",
    "from tensorflow.keras import layers\n",
    "from pathlib import Path\n",
    "import sys\n",
    "sys.path.append(os.path.dirname(os.path.dirname(os.path.abspath(__file__))))\n",
    "from utils.preprocessing import SimpleTabularProcessor\n",
    "\n",
    "\n",
    "\n",
    "\n",
    "\n"
   ]
  },
  {
   "cell_type": "code",
   "execution_count": null,
   "id": "5bac023d",
   "metadata": {
    "vscode": {
     "languageId": "plaintext"
    }
   },
   "outputs": [],
   "source": [
    "# === Configuration (Embedded) ===\n",
    "# Adjusted path relative to this model file (models/)\n",
    "CSV_PATH = \"../jaundice_dataset/chd_jaundice_published_2.csv\" \n",
    "MODEL_PATH = \"../best_tabular_model.keras\" # Save in ml_model root\n"
   ]
  },
  {
   "cell_type": "code",
   "execution_count": null,
   "id": "55e2467c",
   "metadata": {
    "vscode": {
     "languageId": "plaintext"
    }
   },
   "outputs": [],
   "source": [
    "# Tabular features based on user input\n",
    "CATEGORICAL_COLS = ['gender'] \n",
    "NUMERICAL_COLS = ['gestational_age', 'age(day)', 'weight', 'blood(mg/dL)']\n",
    "TARGET_COL = 'jaundiced'\n"
   ]
  },
  {
   "cell_type": "code",
   "execution_count": null,
   "id": "3663a932",
   "metadata": {
    "vscode": {
     "languageId": "plaintext"
    }
   },
   "outputs": [],
   "source": [
    "# Hyperparameters\n",
    "EPOCHS_TABULAR = 50\n",
    "BATCH_SIZE = 32\n",
    "LEARNING_RATE_TABULAR = 1e-3\n"
   ]
  },
  {
   "cell_type": "code",
   "execution_count": null,
   "id": "1821cce7",
   "metadata": {
    "vscode": {
     "languageId": "plaintext"
    }
   },
   "outputs": [],
   "source": [
    "class TabularJaundiceDetector:\n",
    "    def __init__(self):\n",
    "        self.tabular_processor = SimpleTabularProcessor()\n",
    "        self.model = None\n",
    "        self.input_shape = None\n",
    "\n",
    "    def _build_model(self):\n",
    "        if self.input_shape is None:\n",
    "            raise ValueError(\"Input shape must be set by loading data before building model.\")\n",
    "        \n",
    "        model = keras.Sequential([\n",
    "            layers.Input(shape=(self.input_shape,)),\n",
    "            layers.Dense(128, activation='relu'),\n",
    "            layers.BatchNormalization(),\n",
    "            layers.Dropout(0.3),\n",
    "            layers.Dense(64, activation='relu'),\n",
    "            layers.BatchNormalization(),\n",
    "            layers.Dropout(0.3),\n",
    "            layers.Dense(32, activation='relu'),\n",
    "            layers.BatchNormalization(),\n",
    "            layers.Dropout(0.2),\n",
    "            layers.Dense(1, activation='sigmoid')\n",
    "        ])\n",
    "        \n",
    "        model.compile(\n",
    "            optimizer=keras.optimizers.Adam(LEARNING_RATE_TABULAR),\n",
    "            loss='binary_crossentropy',\n",
    "            metrics=['accuracy']\n",
    "        )\n",
    "        return model\n",
    "\n",
    "    def load_and_preprocess_data(self, csv_path):\n",
    "        df = pd.read_csv(csv_path)\n",
    "        df.columns = df.columns.str.strip()\n",
    "        \n",
    "        # Verify all defined columns exist in the DataFrame\n",
    "        all_feature_cols = CATEGORICAL_COLS + NUMERICAL_COLS\n",
    "        missing_features = [col for col in all_feature_cols if col not in df.columns]\n",
    "        if missing_features:\n",
    "            raise ValueError(f\"Missing feature columns in CSV: {missing_features}. Available columns: {df.columns.tolist()}\")\n",
    "        if TARGET_COL not in df.columns:\n",
    "            raise ValueError(f\"Missing target column '{TARGET_COL}' in CSV. Available columns: {df.columns.tolist()}\")\n",
    "\n",
    "        X_tabular_raw = df[all_feature_cols]\n",
    "        y = df[TARGET_COL].values\n",
    "\n",
    "        X_tabular = self.tabular_processor.fit_transform(X_tabular_raw, CATEGORICAL_COLS, NUMERICAL_COLS)\n",
    "        self.input_shape = X_tabular.shape[1]\n",
    "        \n",
    "        print(f\"✅ Tabular data loaded and processed. Input shape: ({self.input_shape},)\")\n",
    "        return X_tabular, y\n",
    "\n",
    "    def train_model(self, X_train, y_train, X_val, y_val):\n",
    "        if self.model is None:\n",
    "            self.model = self._build_model()\n",
    "            \n",
    "        class_weights = class_weight.compute_class_weight(\n",
    "            class_weight='balanced',\n",
    "            classes=np.unique(y_train),\n",
    "            y=y_train\n",
    "        )\n",
    "        class_weights_dict = dict(enumerate(class_weights))\n",
    "\n",
    "        callbacks = [\n",
    "            keras.callbacks.EarlyStopping(monitor='val_accuracy', patience=10, restore_best_weights=True, min_delta=0.001),\n",
    "            keras.callbacks.ReduceLROnPlateau(monitor='val_loss', patience=5, factor=0.3, min_lr=1e-6),\n",
    "            keras.callbacks.ModelCheckpoint(MODEL_PATH, save_best_only=True, monitor='val_accuracy', mode='max', verbose=1)\n",
    "        ]\n",
    "\n",
    "        print(\"🧠 Training Tabular Model...\")\n",
    "        history = self.model.fit(\n",
    "            X_train, y_train,\n",
    "            validation_data=(X_val, y_val),\n",
    "            epochs=EPOCHS_TABULAR,\n",
    "            batch_size=BATCH_SIZE,\n",
    "            callbacks=callbacks,\n",
    "            class_weight=class_weights_dict,\n",
    "            verbose=1\n",
    "        )\n",
    "        return history\n",
    "\n",
    "    def evaluate_model(self, X_test, y_test):\n",
    "        if self.model is None:\n",
    "            raise ValueError(\"Model not trained or loaded.\")\n",
    "        \n",
    "        print(\"📊 Evaluating Tabular Model...\")\n",
    "        predictions = self.model.predict(X_test)\n",
    "        y_pred = (predictions > 0.5).astype(int).flatten()\n",
    "        accuracy = accuracy_score(y_test, y_pred)\n",
    "\n",
    "        print(f\"\\n🎯 Tabular Model Results:\")\n",
    "        print(f\"Accuracy: {accuracy:.4f}\")\n",
    "        print(\"\\nClassification Report:\")\n",
    "        print(classification_report(y_test, y_pred, target_names=['No Jaundice', 'Jaundice']))\n",
    "        return accuracy\n",
    "\n",
    "    def predict_proba(self, X_tabular_processed):\n",
    "        if self.model is None:\n",
    "            raise ValueError(\"Model not trained or loaded. Please train or load weights first.\")\n",
    "        return self.model.predict(X_tabular_processed)\n"
   ]
  },
  {
   "cell_type": "code",
   "execution_count": null,
   "id": "a8544a6d",
   "metadata": {
    "vscode": {
     "languageId": "plaintext"
    }
   },
   "outputs": [],
   "source": [
    "def test_tabular_model():\n",
    "    print(\"🧠 Testing Tabular Jaundice Detector\")\n",
    "    print(\"=\" * 60)\n",
    "\n",
    "    detector = TabularJaundiceDetector()\n",
    "    X_tabular, y = detector.load_and_preprocess_data(CSV_PATH)\n",
    "\n",
    "    X_train, X_temp, y_train, y_temp = train_test_split(X_tabular, y, test_size=0.3, random_state=42, stratify=y)\n",
    "    X_val, X_test, y_val, y_test = train_test_split(X_temp, y_temp, test_size=0.5, random_state=42, stratify=y_temp)\n",
    "\n",
    "    print(f\"\\nDataset Summary:\")\n",
    "    print(f\"Train: {len(X_train)}, Val: {len(X_val)}, Test: {len(X_test)}\")\n",
    "    print(f\"Class distribution (train): {np.unique(y_train, return_counts=True)}\")\n",
    "\n",
    "    detector.train_model(X_train, y_train, X_val, y_val)\n",
    "    detector.model.load_weights(MODEL_PATH) # Load best weights\n",
    "    accuracy = detector.evaluate_model(X_test, y_test)\n",
    "    print(f\"\\n🏆 Tabular Model Accuracy: {accuracy:.4f}\")\n",
    "    return detector, accuracy\n",
    "\n"
   ]
  },
  {
   "cell_type": "code",
   "execution_count": null,
   "id": "11eb4d3d",
   "metadata": {
    "vscode": {
     "languageId": "plaintext"
    }
   },
   "outputs": [],
   "source": [
    "if __name__ == \"__main__\":\n",
    "    test_tabular_model() "
   ]
  }
 ],
 "metadata": {
  "language_info": {
   "name": "python"
  }
 },
 "nbformat": 4,
 "nbformat_minor": 5
}
