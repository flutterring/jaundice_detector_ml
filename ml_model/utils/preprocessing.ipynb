{
 "cells": [
  {
   "cell_type": "code",
   "execution_count": 14,
   "metadata": {},
   "outputs": [],
   "source": [
    "import pandas as pd\n",
    "\n",
    "df = pd.read_csv('jaundice_detector_ml/ml_model/jaundice_dataset/chd_jaundice_published_2.csv')\n",
    "\n",
    "\n",
    "\n"
   ]
  },
  {
   "cell_type": "code",
   "execution_count": 5,
   "metadata": {},
   "outputs": [
    {
     "data": {
      "text/html": [
       "<div>\n",
       "<style scoped>\n",
       "    .dataframe tbody tr th:only-of-type {\n",
       "        vertical-align: middle;\n",
       "    }\n",
       "\n",
       "    .dataframe tbody tr th {\n",
       "        vertical-align: top;\n",
       "    }\n",
       "\n",
       "    .dataframe thead th {\n",
       "        text-align: right;\n",
       "    }\n",
       "</style>\n",
       "<table border=\"1\" class=\"dataframe\">\n",
       "  <thead>\n",
       "    <tr style=\"text-align: right;\">\n",
       "      <th></th>\n",
       "      <th>patient_id</th>\n",
       "      <th>image_idx</th>\n",
       "      <th>gender</th>\n",
       "      <th>gestational_age</th>\n",
       "      <th>age(day)</th>\n",
       "      <th>weight</th>\n",
       "      <th>blood(mg/dL)</th>\n",
       "      <th>Treatment</th>\n",
       "    </tr>\n",
       "  </thead>\n",
       "  <tbody>\n",
       "    <tr>\n",
       "      <th>0</th>\n",
       "      <td>3</td>\n",
       "      <td>0003-1.jpg</td>\n",
       "      <td>F</td>\n",
       "      <td>40</td>\n",
       "      <td>5.2</td>\n",
       "      <td>3280</td>\n",
       "      <td>3.9</td>\n",
       "      <td>0</td>\n",
       "    </tr>\n",
       "    <tr>\n",
       "      <th>1</th>\n",
       "      <td>3</td>\n",
       "      <td>0003-2.jpg</td>\n",
       "      <td>F</td>\n",
       "      <td>40</td>\n",
       "      <td>5.2</td>\n",
       "      <td>3280</td>\n",
       "      <td>3.9</td>\n",
       "      <td>0</td>\n",
       "    </tr>\n",
       "    <tr>\n",
       "      <th>2</th>\n",
       "      <td>3</td>\n",
       "      <td>0003-3.jpg</td>\n",
       "      <td>F</td>\n",
       "      <td>40</td>\n",
       "      <td>5.2</td>\n",
       "      <td>3280</td>\n",
       "      <td>3.9</td>\n",
       "      <td>0</td>\n",
       "    </tr>\n",
       "    <tr>\n",
       "      <th>3</th>\n",
       "      <td>35</td>\n",
       "      <td>0035-1.jpg</td>\n",
       "      <td>M</td>\n",
       "      <td>39</td>\n",
       "      <td>8.7</td>\n",
       "      <td>3760</td>\n",
       "      <td>12.2</td>\n",
       "      <td>0</td>\n",
       "    </tr>\n",
       "    <tr>\n",
       "      <th>4</th>\n",
       "      <td>35</td>\n",
       "      <td>0035-2.jpg</td>\n",
       "      <td>M</td>\n",
       "      <td>39</td>\n",
       "      <td>8.7</td>\n",
       "      <td>3760</td>\n",
       "      <td>12.2</td>\n",
       "      <td>0</td>\n",
       "    </tr>\n",
       "  </tbody>\n",
       "</table>\n",
       "</div>"
      ],
      "text/plain": [
       "   patient_id   image_idx gender  gestational_age  age(day)  weight  \\\n",
       "0           3  0003-1.jpg      F               40       5.2    3280   \n",
       "1           3  0003-2.jpg      F               40       5.2    3280   \n",
       "2           3  0003-3.jpg      F               40       5.2    3280   \n",
       "3          35  0035-1.jpg      M               39       8.7    3760   \n",
       "4          35  0035-2.jpg      M               39       8.7    3760   \n",
       "\n",
       "   blood(mg/dL)  Treatment  \n",
       "0           3.9          0  \n",
       "1           3.9          0  \n",
       "2           3.9          0  \n",
       "3          12.2          0  \n",
       "4          12.2          0  "
      ]
     },
     "execution_count": 5,
     "metadata": {},
     "output_type": "execute_result"
    }
   ],
   "source": [
    "df.head()"
   ]
  },
  {
   "cell_type": "code",
   "execution_count": 6,
   "metadata": {},
   "outputs": [
    {
     "name": "stdout",
     "output_type": "stream",
     "text": [
      "<class 'pandas.core.frame.DataFrame'>\n",
      "RangeIndex: 2235 entries, 0 to 2234\n",
      "Data columns (total 8 columns):\n",
      " #   Column           Non-Null Count  Dtype  \n",
      "---  ------           --------------  -----  \n",
      " 0   patient_id       2235 non-null   int64  \n",
      " 1   image_idx        2235 non-null   object \n",
      " 2   gender           2235 non-null   object \n",
      " 3   gestational_age  2235 non-null   int64  \n",
      " 4   age(day)         2229 non-null   float64\n",
      " 5   weight           2235 non-null   int64  \n",
      " 6   blood(mg/dL)     2235 non-null   float64\n",
      " 7   Treatment        2235 non-null   int64  \n",
      "dtypes: float64(2), int64(4), object(2)\n",
      "memory usage: 139.8+ KB\n"
     ]
    }
   ],
   "source": [
    "df.info()"
   ]
  },
  {
   "cell_type": "code",
   "execution_count": 7,
   "metadata": {},
   "outputs": [
    {
     "data": {
      "text/html": [
       "<div>\n",
       "<style scoped>\n",
       "    .dataframe tbody tr th:only-of-type {\n",
       "        vertical-align: middle;\n",
       "    }\n",
       "\n",
       "    .dataframe tbody tr th {\n",
       "        vertical-align: top;\n",
       "    }\n",
       "\n",
       "    .dataframe thead th {\n",
       "        text-align: right;\n",
       "    }\n",
       "</style>\n",
       "<table border=\"1\" class=\"dataframe\">\n",
       "  <thead>\n",
       "    <tr style=\"text-align: right;\">\n",
       "      <th></th>\n",
       "      <th>patient_id</th>\n",
       "      <th>gestational_age</th>\n",
       "      <th>age(day)</th>\n",
       "      <th>weight</th>\n",
       "      <th>blood(mg/dL)</th>\n",
       "      <th>Treatment</th>\n",
       "    </tr>\n",
       "  </thead>\n",
       "  <tbody>\n",
       "    <tr>\n",
       "      <th>count</th>\n",
       "      <td>2235.000000</td>\n",
       "      <td>2235.000000</td>\n",
       "      <td>2229.000000</td>\n",
       "      <td>2235.000000</td>\n",
       "      <td>2235.000000</td>\n",
       "      <td>2235.000000</td>\n",
       "    </tr>\n",
       "    <tr>\n",
       "      <th>mean</th>\n",
       "      <td>747.554362</td>\n",
       "      <td>38.293960</td>\n",
       "      <td>6.599192</td>\n",
       "      <td>3158.778523</td>\n",
       "      <td>11.206846</td>\n",
       "      <td>0.417450</td>\n",
       "    </tr>\n",
       "    <tr>\n",
       "      <th>std</th>\n",
       "      <td>420.653073</td>\n",
       "      <td>1.807409</td>\n",
       "      <td>5.703538</td>\n",
       "      <td>529.903610</td>\n",
       "      <td>5.213196</td>\n",
       "      <td>0.493249</td>\n",
       "    </tr>\n",
       "    <tr>\n",
       "      <th>min</th>\n",
       "      <td>1.000000</td>\n",
       "      <td>30.000000</td>\n",
       "      <td>0.100000</td>\n",
       "      <td>1690.000000</td>\n",
       "      <td>0.000000</td>\n",
       "      <td>0.000000</td>\n",
       "    </tr>\n",
       "    <tr>\n",
       "      <th>25%</th>\n",
       "      <td>356.000000</td>\n",
       "      <td>37.000000</td>\n",
       "      <td>2.500000</td>\n",
       "      <td>2800.000000</td>\n",
       "      <td>7.400000</td>\n",
       "      <td>0.000000</td>\n",
       "    </tr>\n",
       "    <tr>\n",
       "      <th>50%</th>\n",
       "      <td>794.000000</td>\n",
       "      <td>39.000000</td>\n",
       "      <td>5.000000</td>\n",
       "      <td>3180.000000</td>\n",
       "      <td>11.800000</td>\n",
       "      <td>0.000000</td>\n",
       "    </tr>\n",
       "    <tr>\n",
       "      <th>75%</th>\n",
       "      <td>1139.000000</td>\n",
       "      <td>40.000000</td>\n",
       "      <td>9.000000</td>\n",
       "      <td>3500.000000</td>\n",
       "      <td>15.100000</td>\n",
       "      <td>1.000000</td>\n",
       "    </tr>\n",
       "    <tr>\n",
       "      <th>max</th>\n",
       "      <td>1351.000000</td>\n",
       "      <td>42.000000</td>\n",
       "      <td>34.000000</td>\n",
       "      <td>5290.000000</td>\n",
       "      <td>25.700000</td>\n",
       "      <td>1.000000</td>\n",
       "    </tr>\n",
       "  </tbody>\n",
       "</table>\n",
       "</div>"
      ],
      "text/plain": [
       "        patient_id  gestational_age     age(day)       weight  blood(mg/dL)  \\\n",
       "count  2235.000000      2235.000000  2229.000000  2235.000000   2235.000000   \n",
       "mean    747.554362        38.293960     6.599192  3158.778523     11.206846   \n",
       "std     420.653073         1.807409     5.703538   529.903610      5.213196   \n",
       "min       1.000000        30.000000     0.100000  1690.000000      0.000000   \n",
       "25%     356.000000        37.000000     2.500000  2800.000000      7.400000   \n",
       "50%     794.000000        39.000000     5.000000  3180.000000     11.800000   \n",
       "75%    1139.000000        40.000000     9.000000  3500.000000     15.100000   \n",
       "max    1351.000000        42.000000    34.000000  5290.000000     25.700000   \n",
       "\n",
       "         Treatment  \n",
       "count  2235.000000  \n",
       "mean      0.417450  \n",
       "std       0.493249  \n",
       "min       0.000000  \n",
       "25%       0.000000  \n",
       "50%       0.000000  \n",
       "75%       1.000000  \n",
       "max       1.000000  "
      ]
     },
     "execution_count": 7,
     "metadata": {},
     "output_type": "execute_result"
    }
   ],
   "source": [
    "df.describe()"
   ]
  },
  {
   "cell_type": "code",
   "execution_count": 8,
   "metadata": {},
   "outputs": [
    {
     "data": {
      "text/plain": [
       "0       False\n",
       "1       False\n",
       "2       False\n",
       "3       False\n",
       "4       False\n",
       "        ...  \n",
       "2230    False\n",
       "2231    False\n",
       "2232    False\n",
       "2233    False\n",
       "2234    False\n",
       "Length: 2235, dtype: bool"
      ]
     },
     "execution_count": 8,
     "metadata": {},
     "output_type": "execute_result"
    }
   ],
   "source": [
    "df.duplicated()"
   ]
  },
  {
   "cell_type": "code",
   "execution_count": 9,
   "metadata": {},
   "outputs": [
    {
     "data": {
      "text/plain": [
       "patient_id         0\n",
       "image_idx          0\n",
       "gender             0\n",
       "gestational_age    0\n",
       "age(day)           6\n",
       "weight             0\n",
       "blood(mg/dL)       0\n",
       "Treatment          0\n",
       "dtype: int64"
      ]
     },
     "execution_count": 9,
     "metadata": {},
     "output_type": "execute_result"
    }
   ],
   "source": [
    "df.isnull().sum()\n"
   ]
  },
  {
   "cell_type": "code",
   "execution_count": 10,
   "metadata": {},
   "outputs": [
    {
     "data": {
      "text/plain": [
       "patient_id         False\n",
       "image_idx          False\n",
       "gender             False\n",
       "gestational_age    False\n",
       "age(day)            True\n",
       "weight             False\n",
       "blood(mg/dL)       False\n",
       "Treatment          False\n",
       "dtype: bool"
      ]
     },
     "execution_count": 10,
     "metadata": {},
     "output_type": "execute_result"
    }
   ],
   "source": [
    "df.isnull().any(axis=0)"
   ]
  },
  {
   "cell_type": "code",
   "execution_count": 11,
   "metadata": {},
   "outputs": [
    {
     "data": {
      "text/plain": [
       "Index(['patient_id', 'image_idx', 'gender', 'gestational_age', 'age(day)',\n",
       "       'weight', 'blood(mg/dL)', 'Treatment'],\n",
       "      dtype='object')"
      ]
     },
     "execution_count": 11,
     "metadata": {},
     "output_type": "execute_result"
    }
   ],
   "source": [
    "df.columns"
   ]
  },
  {
   "cell_type": "code",
   "execution_count": 15,
   "metadata": {},
   "outputs": [],
   "source": [
    "df = df.drop(['gender', 'age(day)', 'weight'], axis=1, errors='ignore')\n",
    "df.to_csv('jaundice_detector_ml/ml_model/jaundice_dataset/chd_jaundice_published_2.csv', index=False)\n"
   ]
  },
  {
   "cell_type": "code",
   "execution_count": 16,
   "metadata": {},
   "outputs": [],
   "source": [
    "df[\"Treatment\"] = df[\"Treatment\"].map({0: \"not_jaundiced\", 1: \"jaundiced\"})\n",
    "df.to_csv('jaundice_detector_ml/ml_model/jaundice_dataset/chd_jaundice_published_2.csv', index=False)"
   ]
  }
 ],
 "metadata": {
  "kernelspec": {
   "display_name": "Python 3",
   "language": "python",
   "name": "python3"
  },
  "language_info": {
   "codemirror_mode": {
    "name": "ipython",
    "version": 3
   },
   "file_extension": ".py",
   "mimetype": "text/x-python",
   "name": "python",
   "nbconvert_exporter": "python",
   "pygments_lexer": "ipython3",
   "version": "3.12.4"
  }
 },
 "nbformat": 4,
 "nbformat_minor": 2
}
